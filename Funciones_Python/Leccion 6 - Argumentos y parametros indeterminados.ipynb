{
 "cells": [
  {
   "cell_type": "code",
   "execution_count": 2,
   "metadata": {},
   "outputs": [
    {
     "name": "stdout",
     "output_type": "stream",
     "text": [
      "2\n",
      "hola\n",
      "[1, 2, 3]\n"
     ]
    }
   ],
   "source": [
    "def indeterminados_posicion(*args): #tuplas\n",
    "    for arg in args:\n",
    "        print(arg)\n",
    "indeterminados_posicion(2,\"hola\",[1,2,3])"
   ]
  },
  {
   "cell_type": "code",
   "execution_count": 3,
   "metadata": {},
   "outputs": [
    {
     "name": "stdout",
     "output_type": "stream",
     "text": [
      "{'n': 12, 'c': 'cadena', 'l': [1, 2, 3]}\n"
     ]
    }
   ],
   "source": [
    "def indeterminados_nombre(**kwargs):\n",
    "    print(kwargs)\n",
    "indeterminados_nombre(n=12,c=\"cadena\",l=[1,2,3])"
   ]
  },
  {
   "cell_type": "code",
   "execution_count": 8,
   "metadata": {},
   "outputs": [
    {
     "name": "stdout",
     "output_type": "stream",
     "text": [
      "n   12\n",
      "c   cadena\n",
      "l   [1, 2, 3]\n"
     ]
    }
   ],
   "source": [
    "def indeterminados_nombre(**kwargs):\n",
    "    for kwarg in kwargs:\n",
    "        print(kwarg, \" \", kwargs[kwarg])\n",
    "indeterminados_nombre(n=12,c=\"cadena\",l=[1,2,3])"
   ]
  },
  {
   "cell_type": "code",
   "execution_count": 9,
   "metadata": {},
   "outputs": [
    {
     "name": "stdout",
     "output_type": "stream",
     "text": [
      "n\n",
      "c\n",
      "l\n"
     ]
    }
   ],
   "source": [
    "def indeterminados_nombre(**kwargs):\n",
    "    for kwarg in kwargs:\n",
    "        print(kwarg)\n",
    "indeterminados_nombre(n=12,c=\"cadena\",l=[1,2,3])"
   ]
  },
  {
   "cell_type": "code",
   "execution_count": 11,
   "metadata": {},
   "outputs": [
    {
     "name": "stdout",
     "output_type": "stream",
     "text": [
      "Sumatorio indeterminado es : 60.56\n",
      "{'nombre': 'yulith', 'edad': 21}   yulith\n",
      "{'nombre': 'yulith', 'edad': 21}   21\n"
     ]
    }
   ],
   "source": [
    "def super_funcion(*args, **kwargs):\n",
    "    total = 0\n",
    "    for arg in args:\n",
    "        total+=arg\n",
    "    print(\"Sumatorio indeterminado es :\",total)\n",
    "    for kwarg in kwargs:\n",
    "        print(kwargs,\" \", kwargs[kwarg])\n",
    "        \n",
    "super_funcion(10,50,-1,1.56,nombre=\"yulith\",edad=21)"
   ]
  },
  {
   "cell_type": "code",
   "execution_count": null,
   "metadata": {},
   "outputs": [],
   "source": []
  }
 ],
 "metadata": {
  "kernelspec": {
   "display_name": "Python 3",
   "language": "python",
   "name": "python3"
  },
  "language_info": {
   "codemirror_mode": {
    "name": "ipython",
    "version": 3
   },
   "file_extension": ".py",
   "mimetype": "text/x-python",
   "name": "python",
   "nbconvert_exporter": "python",
   "pygments_lexer": "ipython3",
   "version": "3.7.0"
  }
 },
 "nbformat": 4,
 "nbformat_minor": 1
}
