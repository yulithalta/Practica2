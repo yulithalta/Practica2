{
 "cells": [
  {
   "cell_type": "code",
   "execution_count": 1,
   "metadata": {},
   "outputs": [
    {
     "name": "stdout",
     "output_type": "stream",
     "text": [
      "no se permite un valor nulo\n"
     ]
    }
   ],
   "source": [
    "def mi_funcion ( algo = None ):\n",
    "    if algo is None:\n",
    "        print(\"no se permite un valor nulo\")\n",
    "\n",
    "mi_funcion()"
   ]
  },
  {
   "cell_type": "code",
   "execution_count": 3,
   "metadata": {},
   "outputs": [
    {
     "name": "stdout",
     "output_type": "stream",
     "text": [
      "no se permite un valor nulo\n"
     ]
    }
   ],
   "source": [
    "def mi_funcion ( algo = None ):\n",
    "    try:\n",
    "        if algo is None:\n",
    "            raise ValueError(\"no se permite un valor nulo\") # invoca ese error \n",
    "    except ValueError:\n",
    "        print(\"no se permite un valor nulo\")\n",
    "\n",
    "mi_funcion()"
   ]
  },
  {
   "cell_type": "code",
   "execution_count": null,
   "metadata": {},
   "outputs": [],
   "source": []
  }
 ],
 "metadata": {
  "kernelspec": {
   "display_name": "Python 3",
   "language": "python",
   "name": "python3"
  },
  "language_info": {
   "codemirror_mode": {
    "name": "ipython",
    "version": 3
   },
   "file_extension": ".py",
   "mimetype": "text/x-python",
   "name": "python",
   "nbconvert_exporter": "python",
   "pygments_lexer": "ipython3",
   "version": "3.7.0"
  }
 },
 "nbformat": 4,
 "nbformat_minor": 1
}
