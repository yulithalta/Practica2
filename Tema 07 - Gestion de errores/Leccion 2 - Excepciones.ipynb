{
 "cells": [
  {
   "cell_type": "code",
   "execution_count": 1,
   "metadata": {},
   "outputs": [
    {
     "name": "stdout",
     "output_type": "stream",
     "text": [
      "Introduce un numero: hh\n"
     ]
    },
    {
     "ename": "ValueError",
     "evalue": "could not convert string to float: 'hh'",
     "output_type": "error",
     "traceback": [
      "\u001b[1;31m---------------------------------------------------------------------------\u001b[0m",
      "\u001b[1;31mValueError\u001b[0m                                Traceback (most recent call last)",
      "\u001b[1;32m<ipython-input-1-cd17a95b61c7>\u001b[0m in \u001b[0;36m<module>\u001b[1;34m()\u001b[0m\n\u001b[1;32m----> 1\u001b[1;33m \u001b[0mnumero\u001b[0m \u001b[1;33m=\u001b[0m \u001b[0mfloat\u001b[0m\u001b[1;33m(\u001b[0m\u001b[0minput\u001b[0m \u001b[1;33m(\u001b[0m\u001b[1;34m\"Introduce un numero: \"\u001b[0m\u001b[1;33m)\u001b[0m\u001b[1;33m)\u001b[0m\u001b[1;33m\u001b[0m\u001b[0m\n\u001b[0m\u001b[0;32m      2\u001b[0m \u001b[0mm\u001b[0m \u001b[1;33m=\u001b[0m \u001b[1;36m4\u001b[0m\u001b[1;33m\u001b[0m\u001b[0m\n\u001b[0;32m      3\u001b[0m \u001b[0mprint\u001b[0m\u001b[1;33m(\u001b[0m\u001b[1;34m\"{}/{}={}\"\u001b[0m\u001b[1;33m.\u001b[0m\u001b[0mformat\u001b[0m\u001b[1;33m(\u001b[0m\u001b[0mnumero\u001b[0m\u001b[1;33m,\u001b[0m\u001b[0mm\u001b[0m\u001b[1;33m,\u001b[0m\u001b[0mnumero\u001b[0m\u001b[1;33m/\u001b[0m\u001b[0mm\u001b[0m\u001b[1;33m)\u001b[0m\u001b[1;33m)\u001b[0m\u001b[1;33m\u001b[0m\u001b[0m\n",
      "\u001b[1;31mValueError\u001b[0m: could not convert string to float: 'hh'"
     ]
    }
   ],
   "source": [
    "numero = float(input (\"Introduce un numero: \"))\n",
    "m = 4\n",
    "print(\"{}/{}={}\".format(numero,m,numero/m))"
   ]
  },
  {
   "cell_type": "code",
   "execution_count": 5,
   "metadata": {},
   "outputs": [
    {
     "name": "stdout",
     "output_type": "stream",
     "text": [
      "Introduce un numero: 4\n",
      "4.0/4=1.0\n"
     ]
    }
   ],
   "source": [
    "try:\n",
    "    numero = float(input (\"Introduce un numero: \"))\n",
    "    m = 4\n",
    "    print(\"{}/{}={}\".format(numero,m,numero/m))\n",
    "except:\n",
    "    print(\"Ha ocurrido un error introduce un numero\")"
   ]
  },
  {
   "cell_type": "code",
   "execution_count": 8,
   "metadata": {},
   "outputs": [
    {
     "name": "stdout",
     "output_type": "stream",
     "text": [
      "Introduce un numero: 4\n",
      "4.0/4=1.0\n",
      "Todo bien\n"
     ]
    }
   ],
   "source": [
    "while(True):\n",
    "    try:\n",
    "        numero = float(input (\"Introduce un numero: \"))\n",
    "        m = 4\n",
    "        print(\"{}/{}={}\".format(numero,m,numero/m))\n",
    "    except:\n",
    "        print(\"Ha ocurrido un error introduce un numero\")\n",
    "    else:\n",
    "        print(\"Todo bien\")\n",
    "        break"
   ]
  },
  {
   "cell_type": "code",
   "execution_count": 9,
   "metadata": {},
   "outputs": [
    {
     "name": "stdout",
     "output_type": "stream",
     "text": [
      "Introduce un numero: ad\n",
      "Ha ocurrido un error introduce un numero\n",
      "Fin de la interaccion\n",
      "Introduce un numero: 10\n",
      "10.0/4=2.5\n",
      "Todo bien\n",
      "Fin de la interaccion\n"
     ]
    }
   ],
   "source": [
    "while(True):\n",
    "    try: #las operaciones\n",
    "        numero = float(input (\"Introduce un numero: \"))\n",
    "        m = 4\n",
    "        print(\"{}/{}={}\".format(numero,m,numero/m))\n",
    "    except: # cuando algo pasa\n",
    "        print(\"Ha ocurrido un error introduce un numero\")\n",
    "    else: # cuando todo va bien\n",
    "        print(\"Todo bien\")\n",
    "        break\n",
    "    finally: # siempre imprime este o no bien\n",
    "        print(\"Fin de la interaccion\")"
   ]
  },
  {
   "cell_type": "code",
   "execution_count": null,
   "metadata": {},
   "outputs": [],
   "source": []
  }
 ],
 "metadata": {
  "kernelspec": {
   "display_name": "Python 3",
   "language": "python",
   "name": "python3"
  },
  "language_info": {
   "codemirror_mode": {
    "name": "ipython",
    "version": 3
   },
   "file_extension": ".py",
   "mimetype": "text/x-python",
   "name": "python",
   "nbconvert_exporter": "python",
   "pygments_lexer": "ipython3",
   "version": "3.7.0"
  }
 },
 "nbformat": 4,
 "nbformat_minor": 1
}
